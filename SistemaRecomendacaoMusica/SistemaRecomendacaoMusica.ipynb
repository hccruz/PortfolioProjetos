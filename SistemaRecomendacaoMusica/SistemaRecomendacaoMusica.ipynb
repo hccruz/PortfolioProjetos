{
 "cells": [
  {
   "cell_type": "markdown",
   "id": "bb18c240-6c7b-4c1f-8404-72bd8be4635f",
   "metadata": {},
   "source": [
    "# **Sistema de Recomendação de Música**"
   ]
  },
  {
   "cell_type": "markdown",
   "id": "61dece37-3e39-4368-b3a8-eae32a8bc0bf",
   "metadata": {},
   "source": [
    "Um Sistema de Recomendação Musical é uma aplicação de Data Science que visa auxiliar os usuários na descoberta de conteúdos musicais novos e relevantes com base em suas preferências e comportamento auditivo.  As recomendações musicais personalizadas tornaram-se uma ferramenta essencial no cenário da música digital, permitindo que plataformas de streaming de música como Spotify e Apple Music ofereçam experiências personalizadas e envolventes aos seus utilizadores."
   ]
  },
  {
   "cell_type": "markdown",
   "id": "7138974d-263b-4658-b1a5-4c60b7ab10ca",
   "metadata": {},
   "source": [
    "## Token de Acesso"
   ]
  },
  {
   "cell_type": "markdown",
   "id": "bebb871c-05c4-4e55-aa56-1519dd49dc87",
   "metadata": {},
   "source": [
    "Para começar a construir um sistema de recomendação musical, primeiro precisamos ter um token de acesso.  O token de acesso serve como uma credencial de autorização temporária, permitindo que o código faça solicitações autenticadas à API do Spotify em nome do aplicativo."
   ]
  },
  {
   "cell_type": "markdown",
   "id": "1b7698ba-e429-4572-b880-8b9cbf6e8c07",
   "metadata": {},
   "source": [
    "**Importando as Bibliotecas**"
   ]
  },
  {
   "cell_type": "code",
   "execution_count": 149,
   "id": "19d1b403-73f0-4a19-af15-354b788a6a9b",
   "metadata": {},
   "outputs": [],
   "source": [
    "# !pip install spotipy\n",
    "# !pip install scikit-learn"
   ]
  },
  {
   "cell_type": "code",
   "execution_count": 150,
   "id": "271fba1d-f605-49bd-bacd-271ca8c42892",
   "metadata": {},
   "outputs": [],
   "source": [
    "import requests\n",
    "import base64"
   ]
  },
  {
   "cell_type": "code",
   "execution_count": 151,
   "id": "bc0dc473-ac50-4f6e-9e53-2a80ab6d2228",
   "metadata": {},
   "outputs": [],
   "source": [
    "# Substitua pelo seu próprio Client ID e Client Secret\n",
    "CLIENT_ID = 'dc24d2ff39cd4bc4aaf087c89d8f6293'\n",
    "CLIENT_SECRET = 'aa13ae7c60b2465e998bd6b5b62d9328'"
   ]
  },
  {
   "cell_type": "code",
   "execution_count": 152,
   "id": "efa3e94a-3008-4eb0-bc29-ae7ad94dd684",
   "metadata": {},
   "outputs": [],
   "source": [
    "# Base64 codifica o ID do cliente e o segredo do cliente\n",
    "client_credentials = f\"{CLIENT_ID}:{CLIENT_SECRET}\"\n",
    "client_credentials_base64 = base64.b64encode(client_credentials.encode())"
   ]
  },
  {
   "cell_type": "code",
   "execution_count": 153,
   "id": "b32c5985-fc5d-4b6d-9f17-9e68f195469b",
   "metadata": {},
   "outputs": [
    {
     "name": "stdout",
     "output_type": "stream",
     "text": [
      "Token de acesso obtido com sucesso.\n"
     ]
    }
   ],
   "source": [
    "# Solicite o token de acesso\n",
    "token_url = 'https://accounts.spotify.com/api/token'\n",
    "headers = {\n",
    "    'Authorization': f'Basic {client_credentials_base64.decode()}'\n",
    "}\n",
    "data = {\n",
    "    'grant_type': 'client_credentials'\n",
    "}\n",
    "response = requests.post(token_url, data=data, headers=headers)\n",
    "\n",
    "if response.status_code == 200:\n",
    "    access_token = response.json()['access_token']\n",
    "    print(\"Token de acesso obtido com sucesso.\")\n",
    "else:\n",
    "    print(\"Erro ao obter token de acesso.\")\n",
    "    exit()"
   ]
  },
  {
   "cell_type": "code",
   "execution_count": 154,
   "id": "1caa3608-6175-43a9-ac02-04208f493995",
   "metadata": {},
   "outputs": [],
   "source": [
    "import pandas as pd\n",
    "import spotipy\n",
    "from spotipy.oauth2 import SpotifyOAuth"
   ]
  },
  {
   "cell_type": "code",
   "execution_count": 155,
   "id": "6d5b81dd-54c9-4331-a98b-0f4089cffdb4",
   "metadata": {},
   "outputs": [],
   "source": [
    "def get_trending_playlist_data(playlist_id, access_token):\n",
    "    # Configure o Spotipy com o token de acesso\n",
    "    sp = spotipy.Spotify(auth=access_token)\n",
    "\n",
    "    # Obtenha as faixas da playlist\n",
    "    playlist_tracks = sp.playlist_tracks(playlist_id, fields='items(track(id, name, artists, album(id, name))')\n",
    "\n",
    "    # Extraia informações relevantes e armazene em uma lista de dicionários\n",
    "    music_data = []\n",
    "    for track_info in playlist_tracks['items']:\n",
    "        track = track_info['track']\n",
    "        track_name = track['name']\n",
    "        artists = ', '.join([artist['name'] for artist in track['artists']])\n",
    "        album_name = track['album']['name']\n",
    "        album_id = track['album']['id']\n",
    "        track_id = track['id']\n",
    "\n",
    "        # Obtenha recursos de áudio para a faixa\n",
    "        audio_features = sp.audio_features(track_id)[0] if track_id != 'Not available' else None\n",
    "    \n",
    "        # Obtenha a data de lançamento do álbum\n",
    "        try:\n",
    "            album_info = sp.album(album_id) if album_id != 'Not available' else None\n",
    "            release_date = album_info['release_date'] if album_info else None\n",
    "        except:\n",
    "            release_date = None\n",
    "\n",
    "        # Obtenha popularidade da faixa\n",
    "        try:\n",
    "            track_info = sp.track(track_id) if track_id != 'Not available' else None\n",
    "            popularity = track_info['popularity'] if track_info else None\n",
    "        except:\n",
    "            popularity = None\n",
    "\n",
    "        # Adicione informações adicionais da trilha aos dados da trilha\n",
    "        track_data = {\n",
    "            'Track Name': track_name,\n",
    "            'Artists': artists,\n",
    "            'Album Name': album_name,\n",
    "            'Album ID': album_id,\n",
    "            'Track ID': track_id,\n",
    "            'Popularity': popularity,\n",
    "            'Release Date': release_date,\n",
    "            'Duration (ms)': audio_features['duration_ms'] if audio_features else None,\n",
    "            'Explicit': track_info.get('explicit', None),\n",
    "            'External URLs': track_info.get('external_urls', {}).get('spotify', None),\n",
    "            'Danceability': audio_features['danceability'] if audio_features else None,\n",
    "            'Energy': audio_features['energy'] if audio_features else None,\n",
    "            'Key': audio_features['key'] if audio_features else None,\n",
    "            'Loudness': audio_features['loudness'] if audio_features else None,\n",
    "            'Mode': audio_features['mode'] if audio_features else None,\n",
    "            'Speechiness': audio_features['speechiness'] if audio_features else None,\n",
    "            'Acousticness': audio_features['acousticness'] if audio_features else None,\n",
    "            'Instrumentalness': audio_features['instrumentalness'] if audio_features else None,\n",
    "            'Liveness': audio_features['liveness'] if audio_features else None,\n",
    "            'Valence': audio_features['valence'] if audio_features else None,\n",
    "            'Tempo': audio_features['tempo'] if audio_features else None,\n",
    "        }\n",
    "\n",
    "        music_data.append(track_data)\n",
    "\n",
    "    # Crie um DataFrame do pandas a partir da lista de dicionários\n",
    "    df = pd.DataFrame(music_data)\n",
    "\n",
    "    return df"
   ]
  },
  {
   "cell_type": "code",
   "execution_count": 156,
   "id": "04e3ba56-05a0-4ffd-943a-a332b55e072b",
   "metadata": {},
   "outputs": [
    {
     "name": "stdout",
     "output_type": "stream",
     "text": [
      "                                        Track Name  \\\n",
      "0                  Sweet Dreams (Are Made of This)   \n",
      "1                                  Miracle of Love   \n",
      "2   There Must Be an Angel (Playing With My Heart)   \n",
      "3                              When Tomorrow Comes   \n",
      "4                        Here Comes the Rain Again   \n",
      "..                                             ...   \n",
      "95                                 Lips Like Sugar   \n",
      "96                                   The Passenger   \n",
      "97                 Cities In Dust - Single Version   \n",
      "98                                Kiss Them For Me   \n",
      "99                                867-5309 / Jenny   \n",
      "\n",
      "                                   Artists  \\\n",
      "0   Eurythmics, Annie Lennox, Dave Stewart   \n",
      "1   Eurythmics, Annie Lennox, Dave Stewart   \n",
      "2   Eurythmics, Annie Lennox, Dave Stewart   \n",
      "3   Eurythmics, Annie Lennox, Dave Stewart   \n",
      "4   Eurythmics, Annie Lennox, Dave Stewart   \n",
      "..                                     ...   \n",
      "95                     Echo & the Bunnymen   \n",
      "96               Siouxsie and the Banshees   \n",
      "97               Siouxsie and the Banshees   \n",
      "98               Siouxsie and the Banshees   \n",
      "99                            Tommy Tutone   \n",
      "\n",
      "                                           Album Name                Album ID  \\\n",
      "0                                       Greatest Hits  1j3Ylj3Vcf83DnhnyQQyUo   \n",
      "1                                       Greatest Hits  4C8ZTw8EremXeccyDjUQQC   \n",
      "2                                       Greatest Hits  4C8ZTw8EremXeccyDjUQQC   \n",
      "3                                       Greatest Hits  4C8ZTw8EremXeccyDjUQQC   \n",
      "4                                       Greatest Hits  4C8ZTw8EremXeccyDjUQQC   \n",
      "..                                                ...                     ...   \n",
      "95      Echo & The Bunnymen (Expanded; 2008 Remaster)  3ENyxanpxXbZdf5LGlm8OQ   \n",
      "96  Through The Looking Glass (Remastered And Expa...  7kEqVGkLoruahp34YW16oe   \n",
      "97                                     The Best Of...  7AfRVBG3Kgmo9TkX4pChPX   \n",
      "98                                     The Best Of...  7AfRVBG3Kgmo9TkX4pChPX   \n",
      "99                                   Tommy Tutone - 2  7aks5lgwJAdiZLN51UjkU1   \n",
      "\n",
      "                  Track ID  Popularity Release Date  Duration (ms)  Explicit  \\\n",
      "0   6zIfdCmmhPCX0cMquBsC37          50   2008-10-20         292560     False   \n",
      "1   6noSuYjYAXxM91DEaTAaFy          48   1991-02-28         275000     False   \n",
      "2   1YJ4vpxPL6Wgo8gmRnvqSp          52   1991-02-28         280360     False   \n",
      "3   6UmFGunWzNoe7gSS3JW90v          40   1991-02-28         255707     False   \n",
      "4   3ZooowctgcKwNx7XtRK3W0          34   1991-02-28         299507     False   \n",
      "..                     ...         ...          ...            ...       ...   \n",
      "95  5uyK1WM8qe14n70kvh3IUM          46   1987-07-06         291866     False   \n",
      "96  6EZDbjz2X5XzgIZCtbsrXh          54   1987-03-02         309307     False   \n",
      "97  0LvH53IYMdkQ2VHanpCiBi          42   2002-11-12         243800     False   \n",
      "98  63p3di9yTf0NPQbSwVuZWi          25   2002-11-12         263013     False   \n",
      "99  6iX1f3r7oUJnMbGgQ2gx1j          57   1981-12-04         226200     False   \n",
      "\n",
      "                                        External URLs  ...  Energy  Key  \\\n",
      "0   https://open.spotify.com/track/6zIfdCmmhPCX0cM...  ...   0.584    8   \n",
      "1   https://open.spotify.com/track/6noSuYjYAXxM91D...  ...   0.469    2   \n",
      "2   https://open.spotify.com/track/1YJ4vpxPL6Wgo8g...  ...   0.672    0   \n",
      "3   https://open.spotify.com/track/6UmFGunWzNoe7gS...  ...   0.896    5   \n",
      "4   https://open.spotify.com/track/3ZooowctgcKwNx7...  ...   0.638    0   \n",
      "..                                                ...  ...     ...  ...   \n",
      "95  https://open.spotify.com/track/5uyK1WM8qe14n70...  ...   0.934    4   \n",
      "96  https://open.spotify.com/track/6EZDbjz2X5XzgIZ...  ...   0.930    2   \n",
      "97  https://open.spotify.com/track/0LvH53IYMdkQ2VH...  ...   0.914   10   \n",
      "98  https://open.spotify.com/track/63p3di9yTf0NPQb...  ...   0.883    7   \n",
      "99  https://open.spotify.com/track/6iX1f3r7oUJnMbG...  ...   0.708    5   \n",
      "\n",
      "    Loudness  Mode  Speechiness  Acousticness  Instrumentalness  Liveness  \\\n",
      "0    -11.811     1       0.0434       0.30000          0.000280     0.122   \n",
      "1    -12.552     1       0.0260       0.29700          0.000002     0.361   \n",
      "2    -11.360     1       0.0472       0.34200          0.000010     0.123   \n",
      "3    -10.740     1       0.0519       0.05420          0.000000     0.405   \n",
      "4    -12.040     1       0.0313       0.13900          0.000032     0.274   \n",
      "..       ...   ...          ...           ...               ...       ...   \n",
      "95    -4.039     1       0.0299       0.00448          0.021200     0.258   \n",
      "96    -4.544     0       0.0673       0.03090          0.000063     0.135   \n",
      "97    -9.506     0       0.1360       0.04110          0.000000     0.330   \n",
      "98    -8.952     0       0.0511       0.26300          0.192000     0.557   \n",
      "99   -10.039     1       0.0593       0.02640          0.003640     0.112   \n",
      "\n",
      "    Valence    Tempo  \n",
      "0     0.857  125.989  \n",
      "1     0.317  106.386  \n",
      "2     0.611  112.399  \n",
      "3     0.772  139.402  \n",
      "4     0.649  126.438  \n",
      "..      ...      ...  \n",
      "95    0.863  130.001  \n",
      "96    0.294  139.819  \n",
      "97    0.314  120.053  \n",
      "98    0.717   99.355  \n",
      "99    0.564  137.657  \n",
      "\n",
      "[100 rows x 21 columns]\n"
     ]
    }
   ],
   "source": [
    "playlist_id = '4QeniwUa5dxB6Alf3I8IN3'\n",
    "\n",
    "# Chame a função para obter os dados musicais da lista de reprodução e armazená-los em um DataFrame\n",
    "music_df = get_trending_playlist_data(playlist_id, access_token)\n",
    "\n",
    "# Exibir o DataFrame\n",
    "print(music_df)"
   ]
  },
  {
   "cell_type": "code",
   "execution_count": 157,
   "id": "aaaea061-c275-44df-8318-e9957008f8e5",
   "metadata": {},
   "outputs": [
    {
     "name": "stdout",
     "output_type": "stream",
     "text": [
      "Track Name          0\n",
      "Artists             0\n",
      "Album Name          0\n",
      "Album ID            0\n",
      "Track ID            0\n",
      "Popularity          0\n",
      "Release Date        0\n",
      "Duration (ms)       0\n",
      "Explicit            0\n",
      "External URLs       0\n",
      "Danceability        0\n",
      "Energy              0\n",
      "Key                 0\n",
      "Loudness            0\n",
      "Mode                0\n",
      "Speechiness         0\n",
      "Acousticness        0\n",
      "Instrumentalness    0\n",
      "Liveness            0\n",
      "Valence             0\n",
      "Tempo               0\n",
      "dtype: int64\n"
     ]
    }
   ],
   "source": [
    "print(music_df.isnull().sum())"
   ]
  },
  {
   "cell_type": "code",
   "execution_count": 158,
   "id": "2a669d58-ab1d-47d8-bb06-f8a79a6a5f07",
   "metadata": {},
   "outputs": [],
   "source": [
    "import pandas as pd\n",
    "import numpy as np\n",
    "from sklearn.model_selection import train_test_split\n",
    "from sklearn.preprocessing import MinMaxScaler\n",
    "from datetime import datetime\n",
    "from sklearn.metrics.pairwise import cosine_similarity"
   ]
  },
  {
   "cell_type": "code",
   "execution_count": 159,
   "id": "3d66e01b",
   "metadata": {},
   "outputs": [],
   "source": [
    "# Identificando datas com ano\n",
    "datas_ano = music_df['Release Date'].str.len() == 4\n",
    "\n",
    "# Convertendo datas com ano para datas completas\n",
    "music_df.loc[datas_ano, 'Release Date'] = pd.to_datetime(music_df['Release Date'][datas_ano],\n",
    "                                                         format='%Y', errors='coerce')\n",
    "\n",
    "# Retirando o sufixo ' 00:00:00' da datas completadas\n",
    "music_df['Release Date'] = music_df['Release Date'].astype(str)\n",
    "music_df['Release Date'] = music_df['Release Date'].str.removesuffix(' 00:00:00')"
   ]
  },
  {
   "cell_type": "code",
   "execution_count": 160,
   "id": "eddc25e7-6bca-4099-8dc4-92a3d10bc70e",
   "metadata": {},
   "outputs": [],
   "source": [
    "data = music_df"
   ]
  },
  {
   "cell_type": "code",
   "execution_count": 161,
   "id": "a7aa2bdc-77d8-436e-b3bc-bb03df37be2d",
   "metadata": {},
   "outputs": [],
   "source": [
    "# Função para calcular pontuações de popularidade ponderadas com base na data de lançamento\n",
    "def calculate_weighted_popularity(release_date):\n",
    "    # Converter a data de lançamento em objeto datetime\n",
    "    release_date = datetime.strptime(release_date, '%Y-%m-%d')\n",
    "\n",
    "    # Calcule o intervalo de tempo entre a data de lançamento e a data de hoje\n",
    "    time_span = datetime.now() - release_date\n",
    "\n",
    "    # Calcule a pontuação de popularidade ponderada com base no intervalo de tempo (por exemplo, lançamentos mais recentes têm peso maior)\n",
    "    weight = 1 / (time_span.days + 1)\n",
    "    return weight"
   ]
  },
  {
   "cell_type": "code",
   "execution_count": 162,
   "id": "227c6afd-8655-4a60-8221-1846b46e9374",
   "metadata": {},
   "outputs": [],
   "source": [
    "# Normalize os recursos musicais usando a escala Min-Max\n",
    "scaler = MinMaxScaler()\n",
    "music_features = music_df[['Danceability', 'Energy', 'Key', \n",
    "                           'Loudness', 'Mode', 'Speechiness', 'Acousticness',\n",
    "                           'Instrumentalness', 'Liveness', 'Valence', 'Tempo']].values\n",
    "music_features_scaled = scaler.fit_transform(music_features)"
   ]
  },
  {
   "cell_type": "code",
   "execution_count": 163,
   "id": "1c59dcb1-ff49-4e2a-8d01-9170add98d9d",
   "metadata": {},
   "outputs": [],
   "source": [
    "# Função para obter recomendações baseadas em conteúdo com base em recursos musicais\n",
    "def content_based_recommendations(input_song_name, num_recommendations=5):\n",
    "    if input_song_name not in music_df['Track Name'].values:\n",
    "        print(f\"'{input_song_name}' não encontrado no conjunto de dados. Insira um nome de música válido.\")\n",
    "        return\n",
    "\n",
    "    # Obtenha o índice da música de entrada no DataFrame de música\n",
    "    input_song_index = music_df[music_df['Track Name'] == input_song_name].index[0]\n",
    "\n",
    "    # Calcule as pontuações de similaridade com base nos recursos musicais (semelhança de cosseno)\n",
    "    similarity_scores = cosine_similarity([music_features_scaled[input_song_index]], music_features_scaled)\n",
    "\n",
    "    # Obtenha os índices das músicas mais semelhantes\n",
    "    similar_song_indices = similarity_scores.argsort()[0][::-1][1:num_recommendations + 1]\n",
    "\n",
    "    # Obtenha os nomes das músicas mais semelhantes com base na filtragem baseada em conteúdo\n",
    "    content_based_recommendations = music_df.iloc[similar_song_indices][['Track Name', 'Artists', 'Album Name', 'Release Date', 'Popularity']]\n",
    "\n",
    "    return content_based_recommendations"
   ]
  },
  {
   "cell_type": "code",
   "execution_count": 164,
   "id": "131da607-f09d-4794-88c5-f6a7aacf981e",
   "metadata": {},
   "outputs": [],
   "source": [
    "# Função para obter recomendações híbridas com base na popularidade ponderada\n",
    "def hybrid_recommendations(input_song_name, num_recommendations=5, alpha=0.5):\n",
    "    if input_song_name not in music_df['Track Name'].values:\n",
    "        print(f\"'{input_song_name}' não encontrado no conjunto de dados. Insira um nome de música válido.\")\n",
    "        return\n",
    "\n",
    "    # Obtenha recomendações baseadas em conteúdo\n",
    "    content_based_rec = content_based_recommendations(input_song_name, num_recommendations)\n",
    "\n",
    "    # Obtenha a pontuação de popularidade da música de entrada\n",
    "    popularity_score = music_df.loc[music_df['Track Name'] == input_song_name, 'Popularity'].values[0]\n",
    "\n",
    "    # Calcule a pontuação de popularidade ponderada\n",
    "    weighted_popularity_score = popularity_score * calculate_weighted_popularity(music_df.loc[music_df['Track Name'] == input_song_name, 'Release Date'].values[0])\n",
    "\n",
    "    # Combine recomendações baseadas em conteúdo e baseadas em popularidade com base na popularidade ponderada\n",
    "    hybrid_recommendations = content_based_rec\n",
    "    dict_recommendations = {\n",
    "        'Track Name': input_song_name,\n",
    "        'Artists': music_df.loc[music_df['Track Name'] == input_song_name, 'Artists'].values[0],\n",
    "        'Album Name': music_df.loc[music_df['Track Name'] == input_song_name, 'Album Name'].values[0],\n",
    "        'Release Date': music_df.loc[music_df['Track Name'] == input_song_name, 'Release Date'].values[0],\n",
    "        'Popularity': weighted_popularity_score\n",
    "    }\n",
    "    new_hybrid_recommendations = pd.DataFrame.from_dict(dict_recommendations, orient='index')\n",
    "    new_hybrid_recommendations = new_hybrid_recommendations.T\n",
    "    hybrid_recommendations = pd.concat([hybrid_recommendations, new_hybrid_recommendations], ignore_index=True)\n",
    "\n",
    "    # Classifique as recomendações híbridas com base na pontuação de popularidade ponderada\n",
    "    hybrid_recommendations = hybrid_recommendations.sort_values(by='Popularity', ascending=False)\n",
    "\n",
    "    # Remova a música de entrada das recomendações\n",
    "    hybrid_recommendations = hybrid_recommendations[hybrid_recommendations['Track Name'] != input_song_name]\n",
    "\n",
    "\n",
    "    return hybrid_recommendations"
   ]
  },
  {
   "cell_type": "code",
   "execution_count": 166,
   "id": "9b7bcaf3-d411-4834-984f-cae4fe618ded",
   "metadata": {},
   "outputs": [
    {
     "name": "stdout",
     "output_type": "stream",
     "text": [
      "Músicas híbridas recomendadas para 'Rhythm Of The Night':\n",
      "\n",
      "                          Track Name                  Artists  \\\n",
      "1                           Maneater  Daryl Hall & John Oates   \n",
      "3                         Down Under              Men At Work   \n",
      "0                  Don't You Want Me         The Human League   \n",
      "4  Maria Magdalena - Remastered 1992                   Sandra   \n",
      "2                       Walking Away      Information Society   \n",
      "\n",
      "            Album Name Release Date Popularity  \n",
      "1                  H2O   1982-10-04         78  \n",
      "3    Business As Usual   1981-11-09         75  \n",
      "0                Dare!   1981-01-01         71  \n",
      "4     18 Greatest Hits   1992-01-01         54  \n",
      "2  Information Society   1988-06-21         40  \n"
     ]
    }
   ],
   "source": [
    "input_song_name = \"Rhythm Of The Night\"\n",
    "recommendations = hybrid_recommendations(input_song_name, num_recommendations=5)\n",
    "print(f\"Músicas híbridas recomendadas para '{input_song_name}':\")\n",
    "print()\n",
    "print(recommendations)"
   ]
  },
  {
   "cell_type": "code",
   "execution_count": null,
   "id": "3ef1b9f4",
   "metadata": {},
   "outputs": [],
   "source": []
  }
 ],
 "metadata": {
  "kernelspec": {
   "display_name": "Python 3 (ipykernel)",
   "language": "python",
   "name": "python3"
  },
  "language_info": {
   "codemirror_mode": {
    "name": "ipython",
    "version": 3
   },
   "file_extension": ".py",
   "mimetype": "text/x-python",
   "name": "python",
   "nbconvert_exporter": "python",
   "pygments_lexer": "ipython3",
   "version": "3.11.7"
  }
 },
 "nbformat": 4,
 "nbformat_minor": 5
}
